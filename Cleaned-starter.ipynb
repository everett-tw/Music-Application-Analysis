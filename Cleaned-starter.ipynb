{
 "cells": [
  {
   "cell_type": "code",
   "execution_count": 5,
   "source": [
    "import numpy as np\r\n",
    "import pandas as pd\r\n",
    "import requests\r\n",
    "import json\r\n",
    "from key_finder import client_id, client_secret, last_fm_api_key, shared_secret_lastfm, audio_db_api_key\r\n",
    "from flask import Flask, jsonify"
   ],
   "outputs": [],
   "metadata": {}
  },
  {
   "cell_type": "code",
   "execution_count": 6,
   "source": [
    "last_fm_root = 'http://ws.audioscrobbler.com/2.0/'\r\n",
    "auth_token_url = 'https://accounts.spotify.com/authorize'\r\n",
    "audio_db_base = 'https://theaudiodb.com/api/v1/json/'\r\n",
    "\r\n",
    "#last.fm api documentation link:\r\n",
    "#https://www.last.fm/api/intro"
   ],
   "outputs": [],
   "metadata": {}
  },
  {
   "cell_type": "code",
   "execution_count": 15,
   "source": [
    "artist_name = 'daft_punk'\r\n",
    "artist_name_1 = 'LCD Soundsystem'\r\n",
    "query_url = audio_db_base + audio_db_api_key + '/searchalbum.php?s=' + '{artist_name}'\r\n",
    "adb_response = requests.get(query_url)\r\n",
    "adb_json = adb_response.json()\r\n",
    "print(adb_json)"
   ],
   "outputs": [
    {
     "output_type": "stream",
     "name": "stdout",
     "text": [
      "{'album': None}\n"
     ]
    }
   ],
   "metadata": {}
  },
  {
   "cell_type": "code",
   "execution_count": 16,
   "source": [
    "trending_albums = '/trending.php?country=us&type=itunes&format=albums'\r\n",
    "curr_query = audio_db_base + audio_db_api_key + trending_albums\r\n",
    "adb_response = requests.get(query_url)\r\n",
    "adb_json = adb_response.json()\r\n",
    "print(adb_json)"
   ],
   "outputs": [
    {
     "output_type": "stream",
     "name": "stdout",
     "text": [
      "{'album': None}\n"
     ]
    }
   ],
   "metadata": {}
  },
  {
   "cell_type": "code",
   "execution_count": 12,
   "source": [
    "#conclusion\r\n",
    "#audiodb sucks"
   ],
   "outputs": [],
   "metadata": {}
  },
  {
   "cell_type": "code",
   "execution_count": 19,
   "source": [
    "lfm_auth_query = 'http://www.last.fm/api/auth/?api_key=' + '{last_fm_api_key}'\r\n",
    "lfm_response = requests.get(lfm_auth_query)\r\n"
   ],
   "outputs": [],
   "metadata": {}
  }
 ],
 "metadata": {
  "orig_nbformat": 4,
  "language_info": {
   "name": "python",
   "version": "3.7.6",
   "mimetype": "text/x-python",
   "codemirror_mode": {
    "name": "ipython",
    "version": 3
   },
   "pygments_lexer": "ipython3",
   "nbconvert_exporter": "python",
   "file_extension": ".py"
  },
  "kernelspec": {
   "name": "python3",
   "display_name": "Python 3.7.6 64-bit ('base': conda)"
  },
  "interpreter": {
   "hash": "7b4b4feff2f24a0f0a34464dbe537a36fda679851528fb8735cb41fa49dffb2d"
  }
 },
 "nbformat": 4,
 "nbformat_minor": 2
}