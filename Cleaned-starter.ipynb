{
 "cells": [
  {
   "cell_type": "code",
   "execution_count": 4,
   "source": [
    "import numpy as np\r\n",
    "import pandas as pd\r\n",
    "import requests\r\n",
    "import json\r\n",
    "from config import client_id, client_secret, last_fm_api_key, shared_secret_lastfm, audio_db_api_key\r\n",
    "from flask import Flask, jsonify"
   ],
   "outputs": [],
   "metadata": {}
  },
  {
   "cell_type": "code",
   "execution_count": 5,
   "source": [
    "last_fm_root = 'http://ws.audioscrobbler.com/2.0/'\r\n",
    "auth_token_url = 'https://accounts.spotify.com/authorize'\r\n",
    "audio_db_base = 'https://theaudiodb.com/api/v1/json/'\r\n",
    "\r\n",
    "#last.fm api documentation link:\r\n",
    "#https://www.last.fm/api/intro"
   ],
   "outputs": [],
   "metadata": {}
  },
  {
   "cell_type": "code",
   "execution_count": 6,
   "source": [
    "artist_name = 'daft_punk'\r\n",
    "artist_name_1 = 'LCD Soundsystem'\r\n",
    "query_url = audio_db_base + audio_db_api_key + '/searchalbum.php?s=' + '{artist_name}'\r\n",
    "adb_response = requests.get(query_url)\r\n",
    "adb_json = adb_response.json()\r\n",
    "print(adb_json)"
   ],
   "outputs": [
    {
     "output_type": "stream",
     "name": "stdout",
     "text": [
      "{'album': None}\n"
     ]
    }
   ],
   "metadata": {}
  },
  {
   "cell_type": "code",
   "execution_count": 7,
   "source": [
    "trending_albums = '/trending.php?country=us&type=itunes&format=albums'\r\n",
    "curr_query = audio_db_base + audio_db_api_key + trending_albums\r\n",
    "adb_response = requests.get(query_url)\r\n",
    "adb_json = adb_response.json()\r\n",
    "print(adb_json)"
   ],
   "outputs": [
    {
     "output_type": "stream",
     "name": "stdout",
     "text": [
      "{'album': None}\n"
     ]
    }
   ],
   "metadata": {}
  },
  {
   "cell_type": "code",
   "execution_count": 8,
   "source": [
    "#conclusion\r\n",
    "#audiodb sucks"
   ],
   "outputs": [],
   "metadata": {}
  },
  {
   "cell_type": "code",
   "execution_count": 9,
   "source": [
    "lfm_auth_query = 'http://www.last.fm/api/auth/?api_key=' + '{last_fm_api_key}'\r\n",
    "lfm_response = requests.get(lfm_auth_query)\r\n"
   ],
   "outputs": [],
   "metadata": {}
  },
  {
   "cell_type": "code",
   "execution_count": 13,
   "source": [
    "coord_data = pd.read_csv('./Resources/uscities.csv')\r\n",
    "#coord_data.head()\r\n",
    "coord_data.columns"
   ],
   "outputs": [
    {
     "output_type": "execute_result",
     "data": {
      "text/plain": [
       "Index(['city', 'city_ascii', 'state_id', 'state_name', 'county_fips',\n",
       "       'county_name', 'lat', 'lng', 'population', 'density', 'source',\n",
       "       'military', 'incorporated', 'timezone', 'ranking', 'zips', 'id'],\n",
       "      dtype='object')"
      ]
     },
     "metadata": {},
     "execution_count": 13
    }
   ],
   "metadata": {}
  },
  {
   "cell_type": "code",
   "execution_count": 17,
   "source": [
    "simple_lat_pd = coord_data.drop(columns=['city_ascii', 'county_fips','county_name','source','military','incorporated','timezone','ranking','zips'])\r\n",
    "simple_lat_pd.head()"
   ],
   "outputs": [
    {
     "output_type": "execute_result",
     "data": {
      "text/html": [
       "<div>\n",
       "<style scoped>\n",
       "    .dataframe tbody tr th:only-of-type {\n",
       "        vertical-align: middle;\n",
       "    }\n",
       "\n",
       "    .dataframe tbody tr th {\n",
       "        vertical-align: top;\n",
       "    }\n",
       "\n",
       "    .dataframe thead th {\n",
       "        text-align: right;\n",
       "    }\n",
       "</style>\n",
       "<table border=\"1\" class=\"dataframe\">\n",
       "  <thead>\n",
       "    <tr style=\"text-align: right;\">\n",
       "      <th></th>\n",
       "      <th>city</th>\n",
       "      <th>state_id</th>\n",
       "      <th>state_name</th>\n",
       "      <th>lat</th>\n",
       "      <th>lng</th>\n",
       "      <th>population</th>\n",
       "      <th>density</th>\n",
       "      <th>id</th>\n",
       "    </tr>\n",
       "  </thead>\n",
       "  <tbody>\n",
       "    <tr>\n",
       "      <th>0</th>\n",
       "      <td>New York</td>\n",
       "      <td>NY</td>\n",
       "      <td>New York</td>\n",
       "      <td>40.6943</td>\n",
       "      <td>-73.9249</td>\n",
       "      <td>18713220</td>\n",
       "      <td>10715</td>\n",
       "      <td>1840034016</td>\n",
       "    </tr>\n",
       "    <tr>\n",
       "      <th>1</th>\n",
       "      <td>Los Angeles</td>\n",
       "      <td>CA</td>\n",
       "      <td>California</td>\n",
       "      <td>34.1139</td>\n",
       "      <td>-118.4068</td>\n",
       "      <td>12750807</td>\n",
       "      <td>3276</td>\n",
       "      <td>1840020491</td>\n",
       "    </tr>\n",
       "    <tr>\n",
       "      <th>2</th>\n",
       "      <td>Chicago</td>\n",
       "      <td>IL</td>\n",
       "      <td>Illinois</td>\n",
       "      <td>41.8373</td>\n",
       "      <td>-87.6862</td>\n",
       "      <td>8604203</td>\n",
       "      <td>4574</td>\n",
       "      <td>1840000494</td>\n",
       "    </tr>\n",
       "    <tr>\n",
       "      <th>3</th>\n",
       "      <td>Miami</td>\n",
       "      <td>FL</td>\n",
       "      <td>Florida</td>\n",
       "      <td>25.7839</td>\n",
       "      <td>-80.2102</td>\n",
       "      <td>6445545</td>\n",
       "      <td>5019</td>\n",
       "      <td>1840015149</td>\n",
       "    </tr>\n",
       "    <tr>\n",
       "      <th>4</th>\n",
       "      <td>Dallas</td>\n",
       "      <td>TX</td>\n",
       "      <td>Texas</td>\n",
       "      <td>32.7936</td>\n",
       "      <td>-96.7662</td>\n",
       "      <td>5743938</td>\n",
       "      <td>1526</td>\n",
       "      <td>1840019440</td>\n",
       "    </tr>\n",
       "  </tbody>\n",
       "</table>\n",
       "</div>"
      ],
      "text/plain": [
       "          city state_id  state_name      lat       lng  population  density  \\\n",
       "0     New York       NY    New York  40.6943  -73.9249    18713220    10715   \n",
       "1  Los Angeles       CA  California  34.1139 -118.4068    12750807     3276   \n",
       "2      Chicago       IL    Illinois  41.8373  -87.6862     8604203     4574   \n",
       "3        Miami       FL     Florida  25.7839  -80.2102     6445545     5019   \n",
       "4       Dallas       TX       Texas  32.7936  -96.7662     5743938     1526   \n",
       "\n",
       "           id  \n",
       "0  1840034016  \n",
       "1  1840020491  \n",
       "2  1840000494  \n",
       "3  1840015149  \n",
       "4  1840019440  "
      ]
     },
     "metadata": {},
     "execution_count": 17
    }
   ],
   "metadata": {}
  },
  {
   "cell_type": "code",
   "execution_count": null,
   "source": [],
   "outputs": [],
   "metadata": {}
  }
 ],
 "metadata": {
  "orig_nbformat": 4,
  "language_info": {
   "name": "python",
   "version": "3.7.6",
   "mimetype": "text/x-python",
   "codemirror_mode": {
    "name": "ipython",
    "version": 3
   },
   "pygments_lexer": "ipython3",
   "nbconvert_exporter": "python",
   "file_extension": ".py"
  },
  "kernelspec": {
   "name": "python3",
   "display_name": "Python 3.7.6 64-bit ('base': conda)"
  },
  "interpreter": {
   "hash": "7b4b4feff2f24a0f0a34464dbe537a36fda679851528fb8735cb41fa49dffb2d"
  }
 },
 "nbformat": 4,
 "nbformat_minor": 2
}